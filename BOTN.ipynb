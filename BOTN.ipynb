{
 "cells": [
  {
   "cell_type": "markdown",
   "metadata": {},
   "source": [
    "# Battle of the Neighborhoods"
   ]
  },
  {
   "cell_type": "markdown",
   "metadata": {},
   "source": [
    "## 1. Business Problem"
   ]
  },
  {
   "cell_type": "markdown",
   "metadata": {},
   "source": [
    "New York City is a true a global hotspot which naturally provides the oppurtunity to become a successful entrepreneur. However, to make it big in a region so diverse and densely populated you have to consider many key elements that will impact your business. In this project I will attempt to determine the safest and most strategic neighborhood location in New York City to open a coffee shop."
   ]
  },
  {
   "cell_type": "markdown",
   "metadata": {},
   "source": [
    "The first task will be to analyse New York crime data to identify the safest borough. It is necessary to filter out the remaining four boroughs as safety is a key catalyst in increased customer sales. The next step will be to shortlist a neighborhood where coffee shops are not the most common venue, whilst still minimizing the distance to the city. "
   ]
  },
  {
   "cell_type": "markdown",
   "metadata": {},
   "source": [
    "Utilising data science techniques this anlysis will allow future coffee shop owners to identify the prime location to setup their new business and capitalize on this strategic advantage. "
   ]
  },
  {
   "cell_type": "markdown",
   "metadata": {},
   "source": [
    "## 2. Data"
   ]
  },
  {
   "cell_type": "markdown",
   "metadata": {},
   "source": [
    "The business problem identified the variables that will influence the new coffee shops best location, namely 1) safety levels of the five New York boroughs extracted from the New York Crime data set (the safest borough will be shortlisted),\n",
    "    2) the most common venues in each neighborhood within the safest borough,\n",
    "    3) selecting the optimal neighborhood given these mentioned factors. Examples of venues include coffee shops, spa's, bars etc."
   ]
  },
  {
   "cell_type": "markdown",
   "metadata": {},
   "source": [
    "The Latitude and Longitide coordinates of New York City will be used to mark the neighborhoods within the safest borough on a geospatial map using the Folium package.\n",
    "    Finally the neighborhoods will be clustered and mapped based on venues, to aid in determining the prime location for a coffee shop. Here is an outline of the data sources used for this project:\n",
    "    "
   ]
  },
  {
   "cell_type": "markdown",
   "metadata": {},
   "source": [
    "#### Section 1 "
   ]
  },
  {
   "cell_type": "markdown",
   "metadata": {},
   "source": [
    "Analysing the NYPD Complaint dataset which includes all valid felony, misdemeanor, and violation crimes reported to the   New York City Police Department (NYPD) for all complete quarters of 2018/2019. This step will present the safest borough to shortlist for the next phase of analysis.\n",
    "   "
   ]
  },
  {
   "cell_type": "markdown",
   "metadata": {},
   "source": [
    "#### Section 2 "
   ]
  },
  {
   "cell_type": "markdown",
   "metadata": {},
   "source": [
    "Exploring the New York dataset containing a list of the of the 5 boroughs, the neighborhoods within these boroughs, and the lattude and longitude coordinates of each neighborhood. "
   ]
  },
  {
   "cell_type": "markdown",
   "metadata": {},
   "source": [
    "#### Section 3"
   ]
  },
  {
   "cell_type": "markdown",
   "metadata": {},
   "source": [
    "Merging and creating a new dataset with the crime, neighborhood, borough, and coordinate values of New York City. Folium and Opencage Geocoder will be used to analyze the data to determine the safest neighborhood as well as explore the neighborhood visually on map."
   ]
  },
  {
   "cell_type": "markdown",
   "metadata": {},
   "source": [
    "#### Section 4"
   ]
  },
  {
   "cell_type": "markdown",
   "metadata": {},
   "source": [
    "Creating a datset with the safest borough, the neighborhoods within that borough, as well as the most common venues within each neighborhood and its coordinates. The venue and location data will be fetched using the FourSquare API. Machine learning techniques will be used to cluster the neighborhoods and explore these clustered neighborhoods by plotting them on a map using Folium."
   ]
  },
  {
   "cell_type": "code",
   "execution_count": null,
   "metadata": {},
   "outputs": [],
   "source": []
  }
 ],
 "metadata": {
  "kernelspec": {
   "display_name": "Python",
   "language": "python",
   "name": "conda-env-python-py"
  },
  "language_info": {
   "codemirror_mode": {
    "name": "ipython",
    "version": 3
   },
   "file_extension": ".py",
   "mimetype": "text/x-python",
   "name": "python",
   "nbconvert_exporter": "python",
   "pygments_lexer": "ipython3",
   "version": "3.6.10"
  }
 },
 "nbformat": 4,
 "nbformat_minor": 4
}
